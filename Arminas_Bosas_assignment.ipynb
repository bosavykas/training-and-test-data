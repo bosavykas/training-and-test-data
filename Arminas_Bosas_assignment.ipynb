{
 "cells": [
  {
   "cell_type": "markdown",
   "metadata": {},
   "source": [
    "# Recurrent Neural Networks\n",
    "\n",
    "### Practical Session\n",
    "\n",
    "<br/> Student Arminas Bosas\n",
    "<br/> email: arminas.bo9671@go.kauko.lt"
   ]
  },
  {
   "cell_type": "markdown",
   "metadata": {},
   "source": [
    "## Contents\n",
    "\n",
    "1. Data loading and pre-processing\n",
    "2. Building the RNN\n",
    "3. Train and deploy the RNN\n",
    "4. Improving the RNN"
   ]
  },
  {
   "cell_type": "markdown",
   "metadata": {},
   "source": [
    "## Challenge"
   ]
  },
  {
   "cell_type": "markdown",
   "metadata": {},
   "source": [
    "<img src=\"https://www.aerotime.aero/aviation-blog/wp-content/uploads/2016/06/Boeing-Logo.svg.png\"/>"
   ]
  },
  {
   "cell_type": "markdown",
   "metadata": {},
   "source": [
    "Given a 10-year history of the Boeing Stock prices predict the stock values for the period of the recent most month that are not included in the historical data."
   ]
  },
  {
   "cell_type": "markdown",
   "metadata": {},
   "source": [
    "## Data loading and pre-processing"
   ]
  },
  {
   "cell_type": "markdown",
   "metadata": {},
   "source": [
    "### Download the data-sets\n",
    "\n",
    "The data-sets are two comma-separated values files (CSV) and contain a data table of 2537 records for training and a table of 23 records for testing.\n",
    "\n",
    "They can be found at the [Yahoo.com website](https://finance.yahoo.com/quote/BA?p=BA&.tsrc=fin-srch)\n",
    "\n",
    "Known alternative location: Github user [bosavykas](https://github.com/bosavykas/training-and-test-data) \n",
    "\n",
    "Open a terminal and use the wget command to get it of the selected location. Example:\n",
    "\n",
    "```shell\n",
    "wget https://raw.githubusercontent.com/bosavykas/training-and-test-data/main/training_data.csv\n",
    "\n",
    "wget https://raw.githubusercontent.com/bosavykas/training-and-test-data/main/test_data.csv \n",
    "```\n"
   ]
  },
  {
   "cell_type": "markdown",
   "metadata": {},
   "source": [
    "### Import libraries\n",
    "\n",
    "We need 3 main libraries:\n",
    "\n",
    "- [Numpy](http://www.numpy.org): it is the fundamental package for scientific computing with Python. It contains among other things a powerful N-dimensional array object that can be used as an efficient multi-dimensional container of generic data. Arbitrary data-types can be defined.\n",
    "- [matplotlib](https://matplotlib.org):  it is a Python 2D plotting library which produces publication quality figures in a variety of hardcopy formats and interactive environments across platforms.\n",
    "- [pandas](https://pandas.pydata.org): is a software library written for the Python programming language for data manipulation and analysis. In particular, it offers data structures and operations for manipulating numerical tables and time series."
   ]
  },
  {
   "cell_type": "code",
   "execution_count": 1,
   "metadata": {},
   "outputs": [],
   "source": [
    "# library importation\n",
    "import numpy as np\n",
    "import matplotlib.pyplot as plt\n",
    "import pandas as pd"
   ]
  },
  {
   "cell_type": "markdown",
   "metadata": {},
   "source": [
    "### Import the dataset"
   ]
  },
  {
   "cell_type": "markdown",
   "metadata": {},
   "source": [
    "Dataset description: the open high, low and close values of the Boeing Stock from 2009 to 2019.\n"
   ]
  },
  {
   "cell_type": "code",
   "execution_count": 2,
   "metadata": {},
   "outputs": [],
   "source": [
    "# Dataset importation\n",
    "\n",
    "# loading contents of the file for July 1st 2009 - July 31st 2019 \n",
    "dataset_train = pd.read_csv('training_data.csv')"
   ]
  },
  {
   "cell_type": "code",
   "execution_count": 3,
   "metadata": {},
   "outputs": [
    {
     "data": {
      "text/html": [
       "<div>\n",
       "<style scoped>\n",
       "    .dataframe tbody tr th:only-of-type {\n",
       "        vertical-align: middle;\n",
       "    }\n",
       "\n",
       "    .dataframe tbody tr th {\n",
       "        vertical-align: top;\n",
       "    }\n",
       "\n",
       "    .dataframe thead th {\n",
       "        text-align: right;\n",
       "    }\n",
       "</style>\n",
       "<table border=\"1\" class=\"dataframe\">\n",
       "  <thead>\n",
       "    <tr style=\"text-align: right;\">\n",
       "      <th></th>\n",
       "      <th>Date</th>\n",
       "      <th>Open</th>\n",
       "      <th>High</th>\n",
       "      <th>Low</th>\n",
       "      <th>Close</th>\n",
       "      <th>Adj Close</th>\n",
       "      <th>Volume</th>\n",
       "    </tr>\n",
       "  </thead>\n",
       "  <tbody>\n",
       "    <tr>\n",
       "      <th>0</th>\n",
       "      <td>2009-07-01</td>\n",
       "      <td>42.630001</td>\n",
       "      <td>42.950001</td>\n",
       "      <td>42.150002</td>\n",
       "      <td>42.230000</td>\n",
       "      <td>32.061939</td>\n",
       "      <td>6346700</td>\n",
       "    </tr>\n",
       "    <tr>\n",
       "      <th>1</th>\n",
       "      <td>2009-07-02</td>\n",
       "      <td>41.810001</td>\n",
       "      <td>41.810001</td>\n",
       "      <td>40.619999</td>\n",
       "      <td>40.830002</td>\n",
       "      <td>30.999023</td>\n",
       "      <td>7201500</td>\n",
       "    </tr>\n",
       "    <tr>\n",
       "      <th>2</th>\n",
       "      <td>2009-07-06</td>\n",
       "      <td>40.380001</td>\n",
       "      <td>40.759998</td>\n",
       "      <td>39.919998</td>\n",
       "      <td>40.560001</td>\n",
       "      <td>30.794052</td>\n",
       "      <td>7132800</td>\n",
       "    </tr>\n",
       "    <tr>\n",
       "      <th>3</th>\n",
       "      <td>2009-07-07</td>\n",
       "      <td>40.500000</td>\n",
       "      <td>40.689999</td>\n",
       "      <td>38.939999</td>\n",
       "      <td>39.040001</td>\n",
       "      <td>29.640028</td>\n",
       "      <td>7701600</td>\n",
       "    </tr>\n",
       "    <tr>\n",
       "      <th>4</th>\n",
       "      <td>2009-07-08</td>\n",
       "      <td>39.119999</td>\n",
       "      <td>39.830002</td>\n",
       "      <td>38.919998</td>\n",
       "      <td>39.549999</td>\n",
       "      <td>30.027231</td>\n",
       "      <td>8800400</td>\n",
       "    </tr>\n",
       "  </tbody>\n",
       "</table>\n",
       "</div>"
      ],
      "text/plain": [
       "         Date       Open       High        Low      Close  Adj Close   Volume\n",
       "0  2009-07-01  42.630001  42.950001  42.150002  42.230000  32.061939  6346700\n",
       "1  2009-07-02  41.810001  41.810001  40.619999  40.830002  30.999023  7201500\n",
       "2  2009-07-06  40.380001  40.759998  39.919998  40.560001  30.794052  7132800\n",
       "3  2009-07-07  40.500000  40.689999  38.939999  39.040001  29.640028  7701600\n",
       "4  2009-07-08  39.119999  39.830002  38.919998  39.549999  30.027231  8800400"
      ]
     },
     "execution_count": 3,
     "metadata": {},
     "output_type": "execute_result"
    }
   ],
   "source": [
    "dataset_train.head()"
   ]
  },
  {
   "cell_type": "code",
   "execution_count": 4,
   "metadata": {},
   "outputs": [],
   "source": [
    "# Creating a subtable of related openings\n",
    "# The .values option causes this vector to form a numpy array\n",
    "training_set = dataset_train.iloc[:, 1:2].values "
   ]
  },
  {
   "cell_type": "code",
   "execution_count": 5,
   "metadata": {},
   "outputs": [
    {
     "data": {
      "text/plain": [
       "array([[ 42.630001],\n",
       "       [ 41.810001],\n",
       "       [ 40.380001],\n",
       "       ...,\n",
       "       [346.200012],\n",
       "       [344.98999 ],\n",
       "       [339.839996]])"
      ]
     },
     "execution_count": 5,
     "metadata": {},
     "output_type": "execute_result"
    }
   ],
   "source": [
    "training_set"
   ]
  },
  {
   "cell_type": "markdown",
   "metadata": {},
   "source": [
    "Numpy arrays do not support the view() and head() methods. [More on accessing the numpy data](https://jakevdp.github.io/PythonDataScienceHandbook/02.02-the-basics-of-numpy-arrays.html)\n"
   ]
  },
  {
   "cell_type": "markdown",
   "metadata": {},
   "source": [
    "<img src=\"https://www.part.lt/img/33d457ecbc861af3ae2f7cf0da2e93ef530.PNG\"/>"
   ]
  },
  {
   "cell_type": "markdown",
   "metadata": {},
   "source": [
    "### Feature Scaling\n",
    "\n",
    "Next we need to rescale our data to the range from 0 to 1. \n",
    "\n",
    "Feature scaling is essential as discussed if the Features lecture and needs to be applied to both the training and test sets.\n",
    "\n",
    "It is computed using the ScikitLearn library [MinMaxScaler()](http://scikit-learn.org/stable/modules/generated/sklearn.preprocessing.MinMaxScaler.html#sklearn.preprocessing.MinMaxScaler) which transforms the selected feature by scaling it to a given range. If more than one, this estimator scales and translates each feature individually such that it is in the given range on the training set, i.e. between zero and one."
   ]
  },
  {
   "cell_type": "code",
   "execution_count": 6,
   "metadata": {},
   "outputs": [],
   "source": [
    "# Scaling the feature\n",
    "\n",
    "# importing the MinMaxScaler\n",
    "from sklearn.preprocessing import MinMaxScaler"
   ]
  },
  {
   "cell_type": "code",
   "execution_count": 7,
   "metadata": {},
   "outputs": [],
   "source": [
    "# Creating a scaler instance to rescale all data to the range of 0.0 to 1.0 \n",
    "sc = MinMaxScaler(feature_range = (0, 1))"
   ]
  },
  {
   "cell_type": "code",
   "execution_count": 8,
   "metadata": {},
   "outputs": [],
   "source": [
    "# Creating a certain training set of scaled values\n",
    "training_set_scaled = sc.fit_transform(training_set)"
   ]
  },
  {
   "cell_type": "code",
   "execution_count": 9,
   "metadata": {},
   "outputs": [
    {
     "data": {
      "text/plain": [
       "array([[0.00862641],\n",
       "       [0.00661113],\n",
       "       [0.00309666],\n",
       "       ...,\n",
       "       [0.7547003 ],\n",
       "       [0.75172647],\n",
       "       [0.7390695 ]])"
      ]
     },
     "execution_count": 9,
     "metadata": {},
     "output_type": "execute_result"
    }
   ],
   "source": [
    "training_set_scaled"
   ]
  },
  {
   "cell_type": "markdown",
   "metadata": {},
   "source": [
    "### Splitting the training set to dependent and independent variables"
   ]
  },
  {
   "cell_type": "markdown",
   "metadata": {},
   "source": [
    "<img src=\"https://drive.google.com/uc?id=1bckuLGZCeLUzNA-xJCGOODzC-4n2U-If\"/>"
   ]
  },
  {
   "cell_type": "code",
   "execution_count": 10,
   "metadata": {},
   "outputs": [],
   "source": [
    "# Creating a data structure with 90 timesteps and 1 output\n",
    "\n",
    "# The 90 stock prices in the last 3 months before today\n",
    "X_train = [] "
   ]
  },
  {
   "cell_type": "code",
   "execution_count": 11,
   "metadata": {},
   "outputs": [
    {
     "data": {
      "text/plain": [
       "(2537, 1)"
      ]
     },
     "execution_count": 11,
     "metadata": {},
     "output_type": "execute_result"
    }
   ],
   "source": [
    "training_set_scaled.shape"
   ]
  },
  {
   "cell_type": "code",
   "execution_count": 12,
   "metadata": {},
   "outputs": [],
   "source": [
    "# Today's stock price\n",
    "y_train = [] "
   ]
  },
  {
   "cell_type": "code",
   "execution_count": 13,
   "metadata": {},
   "outputs": [],
   "source": [
    "# Starting from day 90, then going back 90 days \n",
    "for i in range(90, 2537): \n",
    "    # Number 0 defines column ID, which is the only column in this case    \n",
    "    # Putting the last 90 days values in one row of X_train\n",
    "    X_train.append(training_set_scaled[i-90:i, 0]) \n",
    "    y_train.append(training_set_scaled[i, 0])\n"
   ]
  },
  {
   "cell_type": "code",
   "execution_count": 14,
   "metadata": {},
   "outputs": [],
   "source": [
    "X_train, y_train = np.array(X_train), np.array(y_train)"
   ]
  },
  {
   "cell_type": "code",
   "execution_count": 15,
   "metadata": {},
   "outputs": [
    {
     "data": {
      "text/plain": [
       "array([[0.00862641, 0.00661113, 0.00309666, ..., 0.02224188, 0.02251223,\n",
       "        0.02302834],\n",
       "       [0.00661113, 0.00309666, 0.00339158, ..., 0.02251223, 0.02302834,\n",
       "        0.02602669],\n",
       "       [0.00309666, 0.00339158, 0.        , ..., 0.02302834, 0.02602669,\n",
       "        0.02676399],\n",
       "       ...,\n",
       "       [0.81599451, 0.8247438 , 0.82312173, ..., 0.82368694, 0.81388088,\n",
       "        0.77922777],\n",
       "       [0.8247438 , 0.82312173, 0.81021898, ..., 0.81388088, 0.77922777,\n",
       "        0.7547003 ],\n",
       "       [0.82312173, 0.81021898, 0.8009044 , ..., 0.77922777, 0.7547003 ,\n",
       "        0.75172647]])"
      ]
     },
     "execution_count": 15,
     "metadata": {},
     "output_type": "execute_result"
    }
   ],
   "source": [
    "X_train"
   ]
  },
  {
   "cell_type": "markdown",
   "metadata": {},
   "source": [
    "### Reshaping the Matrix\n",
    "\n",
    "We need to add a new matrix dimension to accommodate the indicator (predictor). \n",
    "\n",
    "NumPy matrices are tensors (3D) and essentially we need to specify that our matrix consists of **90 days** (dimension x) times **total days in data set** (dimension y) times **1 value per matrix cell (scalar)** (dimension z)"
   ]
  },
  {
   "cell_type": "markdown",
   "metadata": {},
   "source": [
    "<img src=\"https://cdn.pixabay.com/photo/2015/03/22/17/34/cubic-684961_1280.jpg\" width=\"500\" align=\"left\"/>"
   ]
  },
  {
   "cell_type": "markdown",
   "metadata": {},
   "source": [
    "If we were to add the stock value of somebody else together with the the past 90 days of Boeing, we need to change the length of the 3 dimension to  2.  RNN training tables are 3D!!! Read: [Reshaping NumPy Array | Numpy Array Reshape Examples](https://backtobazics.com/python/python-reshaping-numpy-array-examples/)"
   ]
  },
  {
   "cell_type": "code",
   "execution_count": 16,
   "metadata": {},
   "outputs": [],
   "source": [
    "# Reformating the data matrix, we retain the 2 original dimensions and adding a third one with the depth of 1\n",
    "X_train = np.reshape(X_train, (X_train.shape[0], X_train.shape[1], 1))"
   ]
  },
  {
   "cell_type": "markdown",
   "metadata": {},
   "source": [
    "## Building the RNN"
   ]
  },
  {
   "cell_type": "markdown",
   "metadata": {},
   "source": [
    "### RNN initialization\n",
    "\n",
    "- Import the sequential model from the Keras API;\n",
    "- Import the Dense layer template from the Keras API;\n",
    "- Import the LSTM model from the Keras API\n",
    "- Create an instance of the sequential model called regressor because we want to predict a continuous value"
   ]
  },
  {
   "cell_type": "code",
   "execution_count": 17,
   "metadata": {},
   "outputs": [],
   "source": [
    "# Importing the Keras libraries and packages\n",
    "from keras.models import Sequential\n",
    "from keras.layers import Dense\n",
    "from keras.layers import LSTM\n",
    "from keras.layers import Dropout"
   ]
  },
  {
   "cell_type": "code",
   "execution_count": 18,
   "metadata": {},
   "outputs": [],
   "source": [
    "# Initialising the RNN as an arrangement of layers\n",
    "regressor = Sequential()"
   ]
  },
  {
   "cell_type": "markdown",
   "metadata": {},
   "source": [
    "### Add First Layer\n",
    "\n",
    "We first add an object of the LSTM class! \n",
    "\n",
    "- The first argument is the number of units or LSTM memory cells. Include many neurons to address the high dimensionality of the problem; say 50 neurons! \n",
    "- Second arg: return sequences = true; stacked LSTM !\n",
    "- Third arg: input 3D shape: observations vs time steps vs number of indicators"
   ]
  },
  {
   "cell_type": "code",
   "execution_count": 19,
   "metadata": {},
   "outputs": [],
   "source": [
    "# Adding the input layer and the LSTM layer\n",
    "regressor.add(LSTM(units = 50, return_sequences = True, input_shape =  (X_train.shape[1], 1)))"
   ]
  },
  {
   "cell_type": "code",
   "execution_count": 20,
   "metadata": {},
   "outputs": [],
   "source": [
    "# The argument is the dropout rate to ignore in the layers (20%) \n",
    "# For example 100 units * 20% = 20 units will be dropped each time\n",
    "regressor.add(Dropout(0.2))\n"
   ]
  },
  {
   "cell_type": "markdown",
   "metadata": {},
   "source": [
    "### Add More Layers\n",
    "\n",
    "We can add more LSTM layers but along with Dropout regularization to make sure we avoid overfitting! \n",
    "\n",
    "We don’t need to add the shape of the layer again because it is recognized automatically from the number of input units.\n",
    "\n",
    "The last layer does not return a sequence but connected directly to a fully connected output layer.\n"
   ]
  },
  {
   "cell_type": "code",
   "execution_count": 21,
   "metadata": {},
   "outputs": [],
   "source": [
    "# Adding a second LSTM layer and some Dropout regularisation\n",
    "regressor.add(LSTM(units = 50, return_sequences = True))\n",
    "regressor.add(Dropout(0.2))"
   ]
  },
  {
   "cell_type": "code",
   "execution_count": 22,
   "metadata": {},
   "outputs": [],
   "source": [
    "# Adding a third LSTM layer and some Dropout regularisation\n",
    "regressor.add(LSTM(units = 50, return_sequences = True))\n",
    "regressor.add(Dropout(0.2))"
   ]
  },
  {
   "cell_type": "code",
   "execution_count": 23,
   "metadata": {},
   "outputs": [],
   "source": [
    "# Adding a fourth LSTM layer and some Dropout regularisation\n",
    "# I removed the return_sequences message, because we no longer return an arrangement, but a value instead\n",
    "regressor.add(LSTM(units = 50))\n",
    "regressor.add(Dropout(0.2))"
   ]
  },
  {
   "cell_type": "markdown",
   "metadata": {},
   "source": [
    "### Add Output Layer & Compile\n",
    "\n",
    "The output has 1 dimension , i.e. one value to be predicted thus or output fully connected layer has dimensionality = 1.\n",
    "\n",
    "- **Optimizer**: rmsprop is recommended in the Keras documentation. The Adam optimizer is also a powerful choice.\n",
    "- **Loss function**: regression problems take the mean square error as most common"
   ]
  },
  {
   "cell_type": "code",
   "execution_count": 24,
   "metadata": {},
   "outputs": [],
   "source": [
    "# Adding the output layer\n",
    "regressor.add(Dense(units = 1))"
   ]
  },
  {
   "cell_type": "code",
   "execution_count": 25,
   "metadata": {},
   "outputs": [],
   "source": [
    "# Compiling the RNN\n",
    "regressor.compile(optimizer = 'adam', loss = 'mean_squared_error')"
   ]
  },
  {
   "cell_type": "markdown",
   "metadata": {},
   "source": [
    "## Train and deploy the RNN"
   ]
  },
  {
   "cell_type": "markdown",
   "metadata": {},
   "source": [
    "### Fit the RNN to the Training set\n",
    "\n",
    "We now want to train our RNN using the data in our **Training Set X** and **predictors in y** (ground truth in this case). Parameters that can be specified are the:\n",
    "\n",
    "- **Batch size**:  update the cell weights not on every stock price on every batch_size values; \n",
    "- **Number of epochs**: how many iterations to be used, i.e. number of forward and backward propagations for the update of the weights\n"
   ]
  },
  {
   "cell_type": "code",
   "execution_count": 26,
   "metadata": {},
   "outputs": [
    {
     "name": "stdout",
     "output_type": "stream",
     "text": [
      "Epoch 1/100\n",
      "77/77 [==============================] - 11s 144ms/step - loss: 0.0088\n",
      "Epoch 2/100\n",
      "77/77 [==============================] - 11s 139ms/step - loss: 0.0023\n",
      "Epoch 3/100\n",
      "77/77 [==============================] - 11s 142ms/step - loss: 0.0020\n",
      "Epoch 4/100\n",
      "77/77 [==============================] - 11s 140ms/step - loss: 0.0018\n",
      "Epoch 5/100\n",
      "77/77 [==============================] - 11s 143ms/step - loss: 0.0017\n",
      "Epoch 6/100\n",
      "77/77 [==============================] - 12s 155ms/step - loss: 0.0016\n",
      "Epoch 7/100\n",
      "77/77 [==============================] - 11s 145ms/step - loss: 0.0017\n",
      "Epoch 8/100\n",
      "77/77 [==============================] - 10s 136ms/step - loss: 0.0017\n",
      "Epoch 9/100\n",
      "77/77 [==============================] - 10s 136ms/step - loss: 0.0016\n",
      "Epoch 10/100\n",
      "77/77 [==============================] - 11s 137ms/step - loss: 0.0014\n",
      "Epoch 11/100\n",
      "77/77 [==============================] - 11s 136ms/step - loss: 0.0013\n",
      "Epoch 12/100\n",
      "77/77 [==============================] - 10s 135ms/step - loss: 0.0018\n",
      "Epoch 13/100\n",
      "77/77 [==============================] - 11s 140ms/step - loss: 0.0015\n",
      "Epoch 14/100\n",
      "77/77 [==============================] - 10s 135ms/step - loss: 0.0013\n",
      "Epoch 15/100\n",
      "77/77 [==============================] - 10s 135ms/step - loss: 0.0015\n",
      "Epoch 16/100\n",
      "77/77 [==============================] - 11s 137ms/step - loss: 0.0012\n",
      "Epoch 17/100\n",
      "77/77 [==============================] - 10s 136ms/step - loss: 0.0012\n",
      "Epoch 18/100\n",
      "77/77 [==============================] - 11s 143ms/step - loss: 0.0013\n",
      "Epoch 19/100\n",
      "77/77 [==============================] - 11s 139ms/step - loss: 0.0012\n",
      "Epoch 20/100\n",
      "77/77 [==============================] - 10s 136ms/step - loss: 0.0014\n",
      "Epoch 21/100\n",
      "77/77 [==============================] - 10s 136ms/step - loss: 0.0010\n",
      "Epoch 22/100\n",
      "77/77 [==============================] - 10s 136ms/step - loss: 0.0011\n",
      "Epoch 23/100\n",
      "77/77 [==============================] - 11s 136ms/step - loss: 0.0010\n",
      "Epoch 24/100\n",
      "77/77 [==============================] - 11s 138ms/step - loss: 0.0010\n",
      "Epoch 25/100\n",
      "77/77 [==============================] - 11s 137ms/step - loss: 0.0011\n",
      "Epoch 26/100\n",
      "77/77 [==============================] - 11s 139ms/step - loss: 0.0010\n",
      "Epoch 27/100\n",
      "77/77 [==============================] - 11s 137ms/step - loss: 9.8220e-04\n",
      "Epoch 28/100\n",
      "77/77 [==============================] - 11s 137ms/step - loss: 0.0012\n",
      "Epoch 29/100\n",
      "77/77 [==============================] - 11s 137ms/step - loss: 0.0010\n",
      "Epoch 30/100\n",
      "77/77 [==============================] - 11s 137ms/step - loss: 8.2696e-04\n",
      "Epoch 31/100\n",
      "77/77 [==============================] - 11s 139ms/step - loss: 8.8932e-04\n",
      "Epoch 32/100\n",
      "77/77 [==============================] - 11s 138ms/step - loss: 9.2244e-04\n",
      "Epoch 33/100\n",
      "77/77 [==============================] - 11s 138ms/step - loss: 8.1759e-04\n",
      "Epoch 34/100\n",
      "77/77 [==============================] - 11s 138ms/step - loss: 8.5384e-04\n",
      "Epoch 35/100\n",
      "77/77 [==============================] - 11s 138ms/step - loss: 8.7938e-04\n",
      "Epoch 36/100\n",
      "77/77 [==============================] - 11s 137ms/step - loss: 8.2169e-04\n",
      "Epoch 37/100\n",
      "77/77 [==============================] - 11s 139ms/step - loss: 0.0011\n",
      "Epoch 38/100\n",
      "77/77 [==============================] - 11s 137ms/step - loss: 9.2750e-04\n",
      "Epoch 39/100\n",
      "77/77 [==============================] - 11s 138ms/step - loss: 0.0010\n",
      "Epoch 40/100\n",
      "77/77 [==============================] - 10s 136ms/step - loss: 8.4481e-04\n",
      "Epoch 41/100\n",
      "77/77 [==============================] - 11s 137ms/step - loss: 7.9189e-04\n",
      "Epoch 42/100\n",
      "77/77 [==============================] - 11s 138ms/step - loss: 7.8931e-04\n",
      "Epoch 43/100\n",
      "77/77 [==============================] - 11s 137ms/step - loss: 7.6082e-04\n",
      "Epoch 44/100\n",
      "77/77 [==============================] - 11s 138ms/step - loss: 8.2328e-04\n",
      "Epoch 45/100\n",
      "77/77 [==============================] - 11s 138ms/step - loss: 8.6717e-04\n",
      "Epoch 46/100\n",
      "77/77 [==============================] - 11s 137ms/step - loss: 7.4737e-04\n",
      "Epoch 47/100\n",
      "77/77 [==============================] - 11s 138ms/step - loss: 7.8238e-04\n",
      "Epoch 48/100\n",
      "77/77 [==============================] - 11s 138ms/step - loss: 8.0013e-04\n",
      "Epoch 49/100\n",
      "77/77 [==============================] - 11s 138ms/step - loss: 6.8059e-04\n",
      "Epoch 50/100\n",
      "77/77 [==============================] - 11s 137ms/step - loss: 7.0924e-04\n",
      "Epoch 51/100\n",
      "77/77 [==============================] - 11s 137ms/step - loss: 7.1670e-04\n",
      "Epoch 52/100\n",
      "77/77 [==============================] - 11s 137ms/step - loss: 7.4172e-04\n",
      "Epoch 53/100\n",
      "77/77 [==============================] - 11s 137ms/step - loss: 8.7733e-04\n",
      "Epoch 54/100\n",
      "77/77 [==============================] - 11s 137ms/step - loss: 6.9365e-04\n",
      "Epoch 55/100\n",
      "77/77 [==============================] - 11s 137ms/step - loss: 7.5950e-04\n",
      "Epoch 56/100\n",
      "77/77 [==============================] - 11s 137ms/step - loss: 7.1808e-04\n",
      "Epoch 57/100\n",
      "77/77 [==============================] - 11s 137ms/step - loss: 7.1981e-04\n",
      "Epoch 58/100\n",
      "77/77 [==============================] - 11s 137ms/step - loss: 7.6571e-04\n",
      "Epoch 59/100\n",
      "77/77 [==============================] - 11s 138ms/step - loss: 8.0126e-04\n",
      "Epoch 60/100\n",
      "77/77 [==============================] - 11s 138ms/step - loss: 6.0389e-04\n",
      "Epoch 61/100\n",
      "77/77 [==============================] - 11s 138ms/step - loss: 7.0660e-04\n",
      "Epoch 62/100\n",
      "77/77 [==============================] - 11s 137ms/step - loss: 7.3742e-04\n",
      "Epoch 63/100\n",
      "77/77 [==============================] - 11s 138ms/step - loss: 7.9529e-04\n",
      "Epoch 64/100\n",
      "77/77 [==============================] - 11s 137ms/step - loss: 7.8774e-04\n",
      "Epoch 65/100\n",
      "77/77 [==============================] - 11s 137ms/step - loss: 8.0471e-04\n",
      "Epoch 66/100\n",
      "77/77 [==============================] - 11s 137ms/step - loss: 6.9698e-04\n",
      "Epoch 67/100\n",
      "77/77 [==============================] - 11s 138ms/step - loss: 6.8039e-04\n",
      "Epoch 68/100\n",
      "77/77 [==============================] - 11s 137ms/step - loss: 6.5501e-04\n",
      "Epoch 69/100\n",
      "77/77 [==============================] - 11s 138ms/step - loss: 6.6222e-04\n",
      "Epoch 70/100\n",
      "77/77 [==============================] - 11s 137ms/step - loss: 7.4220e-04\n",
      "Epoch 71/100\n",
      "77/77 [==============================] - 11s 137ms/step - loss: 7.6333e-04\n",
      "Epoch 72/100\n",
      "77/77 [==============================] - 11s 139ms/step - loss: 6.6594e-04\n",
      "Epoch 73/100\n",
      "77/77 [==============================] - 11s 137ms/step - loss: 6.4626e-04\n",
      "Epoch 74/100\n",
      "77/77 [==============================] - 11s 137ms/step - loss: 7.0823e-04\n",
      "Epoch 75/100\n",
      "77/77 [==============================] - 11s 137ms/step - loss: 6.9659e-04\n",
      "Epoch 76/100\n",
      "77/77 [==============================] - 11s 138ms/step - loss: 8.1723e-04\n",
      "Epoch 77/100\n",
      "77/77 [==============================] - 11s 137ms/step - loss: 7.0793e-04\n",
      "Epoch 78/100\n",
      "77/77 [==============================] - 11s 137ms/step - loss: 6.4975e-04\n",
      "Epoch 79/100\n",
      "77/77 [==============================] - 11s 138ms/step - loss: 6.3058e-04\n",
      "Epoch 80/100\n",
      "77/77 [==============================] - 11s 142ms/step - loss: 6.5314e-04\n",
      "Epoch 81/100\n",
      "77/77 [==============================] - 11s 138ms/step - loss: 6.0993e-04\n",
      "Epoch 82/100\n",
      "77/77 [==============================] - 11s 139ms/step - loss: 6.8592e-04\n",
      "Epoch 83/100\n",
      "77/77 [==============================] - 11s 138ms/step - loss: 6.5400e-04\n",
      "Epoch 84/100\n",
      "77/77 [==============================] - 11s 138ms/step - loss: 6.7163e-04\n",
      "Epoch 85/100\n",
      "77/77 [==============================] - 11s 137ms/step - loss: 7.0998e-04\n",
      "Epoch 86/100\n",
      "77/77 [==============================] - 11s 138ms/step - loss: 6.0640e-04\n",
      "Epoch 87/100\n",
      "77/77 [==============================] - 11s 139ms/step - loss: 6.1768e-04\n",
      "Epoch 88/100\n",
      "77/77 [==============================] - 11s 138ms/step - loss: 6.8109e-04\n",
      "Epoch 89/100\n",
      "77/77 [==============================] - 11s 139ms/step - loss: 5.6913e-04\n",
      "Epoch 90/100\n",
      "77/77 [==============================] - 11s 138ms/step - loss: 6.2979e-04\n",
      "Epoch 91/100\n",
      "77/77 [==============================] - 11s 139ms/step - loss: 6.4391e-04\n",
      "Epoch 92/100\n",
      "77/77 [==============================] - 11s 139ms/step - loss: 6.9729e-04\n",
      "Epoch 93/100\n",
      "77/77 [==============================] - 11s 139ms/step - loss: 5.7395e-04\n",
      "Epoch 94/100\n",
      "77/77 [==============================] - 11s 137ms/step - loss: 5.7767e-04\n",
      "Epoch 95/100\n",
      "77/77 [==============================] - 11s 137ms/step - loss: 6.0636e-04\n",
      "Epoch 96/100\n",
      "77/77 [==============================] - 11s 138ms/step - loss: 6.5257e-04\n",
      "Epoch 97/100\n",
      "77/77 [==============================] - 11s 137ms/step - loss: 6.1164e-04\n",
      "Epoch 98/100\n",
      "77/77 [==============================] - 11s 137ms/step - loss: 6.0991e-04\n",
      "Epoch 99/100\n",
      "77/77 [==============================] - 11s 141ms/step - loss: 6.2882e-04\n",
      "Epoch 100/100\n",
      "77/77 [==============================] - 11s 137ms/step - loss: 6.0019e-04\n"
     ]
    },
    {
     "data": {
      "text/plain": [
       "<tensorflow.python.keras.callbacks.History at 0x7f13e4161bb0>"
      ]
     },
     "execution_count": 26,
     "metadata": {},
     "output_type": "execute_result"
    }
   ],
   "source": [
    "# Fitting the RNN to the Training set\n",
    "regressor.fit(X_train, y_train, epochs = 100, batch_size = 32)"
   ]
  },
  {
   "cell_type": "markdown",
   "metadata": {},
   "source": [
    "### Computing Predictions\n",
    "\n",
    "Create a data-frame by importing the Boeing Stock Price Test set for August of 2019 using pandas and make it a numpy array.\n",
    "\n",
    "There are 21 financial days in one month, weekends are excluded!\n"
   ]
  },
  {
   "cell_type": "code",
   "execution_count": 27,
   "metadata": {},
   "outputs": [
    {
     "data": {
      "text/html": [
       "<div>\n",
       "<style scoped>\n",
       "    .dataframe tbody tr th:only-of-type {\n",
       "        vertical-align: middle;\n",
       "    }\n",
       "\n",
       "    .dataframe tbody tr th {\n",
       "        vertical-align: top;\n",
       "    }\n",
       "\n",
       "    .dataframe thead th {\n",
       "        text-align: right;\n",
       "    }\n",
       "</style>\n",
       "<table border=\"1\" class=\"dataframe\">\n",
       "  <thead>\n",
       "    <tr style=\"text-align: right;\">\n",
       "      <th></th>\n",
       "      <th>Date</th>\n",
       "      <th>Open</th>\n",
       "      <th>High</th>\n",
       "      <th>Low</th>\n",
       "      <th>Close</th>\n",
       "      <th>Adj Close</th>\n",
       "      <th>Volume</th>\n",
       "    </tr>\n",
       "  </thead>\n",
       "  <tbody>\n",
       "    <tr>\n",
       "      <th>0</th>\n",
       "      <td>2019-08-01</td>\n",
       "      <td>341.910004</td>\n",
       "      <td>344.290009</td>\n",
       "      <td>333.000000</td>\n",
       "      <td>334.290009</td>\n",
       "      <td>328.335938</td>\n",
       "      <td>6465300</td>\n",
       "    </tr>\n",
       "    <tr>\n",
       "      <th>1</th>\n",
       "      <td>2019-08-02</td>\n",
       "      <td>334.559998</td>\n",
       "      <td>340.540009</td>\n",
       "      <td>332.320007</td>\n",
       "      <td>339.559998</td>\n",
       "      <td>333.512085</td>\n",
       "      <td>4675400</td>\n",
       "    </tr>\n",
       "    <tr>\n",
       "      <th>2</th>\n",
       "      <td>2019-08-05</td>\n",
       "      <td>332.459991</td>\n",
       "      <td>333.369995</td>\n",
       "      <td>326.959991</td>\n",
       "      <td>331.059998</td>\n",
       "      <td>325.163452</td>\n",
       "      <td>5876100</td>\n",
       "    </tr>\n",
       "    <tr>\n",
       "      <th>3</th>\n",
       "      <td>2019-08-06</td>\n",
       "      <td>333.989990</td>\n",
       "      <td>335.700012</td>\n",
       "      <td>329.140015</td>\n",
       "      <td>332.450012</td>\n",
       "      <td>326.528748</td>\n",
       "      <td>3653300</td>\n",
       "    </tr>\n",
       "    <tr>\n",
       "      <th>4</th>\n",
       "      <td>2019-08-07</td>\n",
       "      <td>328.600006</td>\n",
       "      <td>333.649994</td>\n",
       "      <td>324.570007</td>\n",
       "      <td>331.380005</td>\n",
       "      <td>325.477783</td>\n",
       "      <td>4187600</td>\n",
       "    </tr>\n",
       "    <tr>\n",
       "      <th>5</th>\n",
       "      <td>2019-08-08</td>\n",
       "      <td>331.299988</td>\n",
       "      <td>336.429993</td>\n",
       "      <td>328.859985</td>\n",
       "      <td>336.350006</td>\n",
       "      <td>332.420715</td>\n",
       "      <td>3673000</td>\n",
       "    </tr>\n",
       "    <tr>\n",
       "      <th>6</th>\n",
       "      <td>2019-08-09</td>\n",
       "      <td>334.059998</td>\n",
       "      <td>339.079987</td>\n",
       "      <td>333.170013</td>\n",
       "      <td>337.549988</td>\n",
       "      <td>333.606689</td>\n",
       "      <td>3102900</td>\n",
       "    </tr>\n",
       "    <tr>\n",
       "      <th>7</th>\n",
       "      <td>2019-08-12</td>\n",
       "      <td>333.679993</td>\n",
       "      <td>336.010010</td>\n",
       "      <td>331.369995</td>\n",
       "      <td>332.940002</td>\n",
       "      <td>329.050537</td>\n",
       "      <td>2542500</td>\n",
       "    </tr>\n",
       "    <tr>\n",
       "      <th>8</th>\n",
       "      <td>2019-08-13</td>\n",
       "      <td>331.820007</td>\n",
       "      <td>337.399994</td>\n",
       "      <td>330.500000</td>\n",
       "      <td>332.859985</td>\n",
       "      <td>328.971466</td>\n",
       "      <td>3689700</td>\n",
       "    </tr>\n",
       "    <tr>\n",
       "      <th>9</th>\n",
       "      <td>2019-08-14</td>\n",
       "      <td>328.350006</td>\n",
       "      <td>329.540009</td>\n",
       "      <td>320.410004</td>\n",
       "      <td>320.420013</td>\n",
       "      <td>316.676788</td>\n",
       "      <td>5110400</td>\n",
       "    </tr>\n",
       "    <tr>\n",
       "      <th>10</th>\n",
       "      <td>2019-08-15</td>\n",
       "      <td>323.000000</td>\n",
       "      <td>328.070007</td>\n",
       "      <td>319.549988</td>\n",
       "      <td>328.000000</td>\n",
       "      <td>324.168243</td>\n",
       "      <td>4721800</td>\n",
       "    </tr>\n",
       "    <tr>\n",
       "      <th>11</th>\n",
       "      <td>2019-08-16</td>\n",
       "      <td>330.220001</td>\n",
       "      <td>331.160004</td>\n",
       "      <td>326.480011</td>\n",
       "      <td>330.450012</td>\n",
       "      <td>326.589661</td>\n",
       "      <td>3866600</td>\n",
       "    </tr>\n",
       "    <tr>\n",
       "      <th>12</th>\n",
       "      <td>2019-08-19</td>\n",
       "      <td>334.179993</td>\n",
       "      <td>335.910004</td>\n",
       "      <td>331.399994</td>\n",
       "      <td>333.779999</td>\n",
       "      <td>329.880707</td>\n",
       "      <td>2335600</td>\n",
       "    </tr>\n",
       "    <tr>\n",
       "      <th>13</th>\n",
       "      <td>2019-08-20</td>\n",
       "      <td>332.470001</td>\n",
       "      <td>333.500000</td>\n",
       "      <td>328.880005</td>\n",
       "      <td>331.750000</td>\n",
       "      <td>327.874451</td>\n",
       "      <td>2039000</td>\n",
       "    </tr>\n",
       "    <tr>\n",
       "      <th>14</th>\n",
       "      <td>2019-08-21</td>\n",
       "      <td>335.480011</td>\n",
       "      <td>342.579987</td>\n",
       "      <td>333.209991</td>\n",
       "      <td>339.989990</td>\n",
       "      <td>336.018188</td>\n",
       "      <td>3265600</td>\n",
       "    </tr>\n",
       "    <tr>\n",
       "      <th>15</th>\n",
       "      <td>2019-08-22</td>\n",
       "      <td>342.429993</td>\n",
       "      <td>356.440002</td>\n",
       "      <td>341.010010</td>\n",
       "      <td>354.410004</td>\n",
       "      <td>350.269714</td>\n",
       "      <td>8320900</td>\n",
       "    </tr>\n",
       "    <tr>\n",
       "      <th>16</th>\n",
       "      <td>2019-08-23</td>\n",
       "      <td>355.350006</td>\n",
       "      <td>369.690002</td>\n",
       "      <td>354.350006</td>\n",
       "      <td>356.010010</td>\n",
       "      <td>351.851044</td>\n",
       "      <td>11518700</td>\n",
       "    </tr>\n",
       "    <tr>\n",
       "      <th>17</th>\n",
       "      <td>2019-08-26</td>\n",
       "      <td>365.040009</td>\n",
       "      <td>367.339996</td>\n",
       "      <td>356.890015</td>\n",
       "      <td>359.040009</td>\n",
       "      <td>354.845642</td>\n",
       "      <td>4661100</td>\n",
       "    </tr>\n",
       "    <tr>\n",
       "      <th>18</th>\n",
       "      <td>2019-08-27</td>\n",
       "      <td>359.420013</td>\n",
       "      <td>361.309998</td>\n",
       "      <td>353.619995</td>\n",
       "      <td>354.730011</td>\n",
       "      <td>350.585999</td>\n",
       "      <td>3740300</td>\n",
       "    </tr>\n",
       "    <tr>\n",
       "      <th>19</th>\n",
       "      <td>2019-08-28</td>\n",
       "      <td>353.309998</td>\n",
       "      <td>360.190002</td>\n",
       "      <td>351.179993</td>\n",
       "      <td>359.970001</td>\n",
       "      <td>355.764771</td>\n",
       "      <td>2402000</td>\n",
       "    </tr>\n",
       "    <tr>\n",
       "      <th>20</th>\n",
       "      <td>2019-08-29</td>\n",
       "      <td>363.850006</td>\n",
       "      <td>366.040009</td>\n",
       "      <td>360.170013</td>\n",
       "      <td>362.739990</td>\n",
       "      <td>358.502411</td>\n",
       "      <td>2717500</td>\n",
       "    </tr>\n",
       "    <tr>\n",
       "      <th>21</th>\n",
       "      <td>2019-08-30</td>\n",
       "      <td>364.369995</td>\n",
       "      <td>366.369995</td>\n",
       "      <td>362.399994</td>\n",
       "      <td>364.089996</td>\n",
       "      <td>359.836639</td>\n",
       "      <td>3147000</td>\n",
       "    </tr>\n",
       "  </tbody>\n",
       "</table>\n",
       "</div>"
      ],
      "text/plain": [
       "          Date        Open        High         Low       Close   Adj Close  \\\n",
       "0   2019-08-01  341.910004  344.290009  333.000000  334.290009  328.335938   \n",
       "1   2019-08-02  334.559998  340.540009  332.320007  339.559998  333.512085   \n",
       "2   2019-08-05  332.459991  333.369995  326.959991  331.059998  325.163452   \n",
       "3   2019-08-06  333.989990  335.700012  329.140015  332.450012  326.528748   \n",
       "4   2019-08-07  328.600006  333.649994  324.570007  331.380005  325.477783   \n",
       "5   2019-08-08  331.299988  336.429993  328.859985  336.350006  332.420715   \n",
       "6   2019-08-09  334.059998  339.079987  333.170013  337.549988  333.606689   \n",
       "7   2019-08-12  333.679993  336.010010  331.369995  332.940002  329.050537   \n",
       "8   2019-08-13  331.820007  337.399994  330.500000  332.859985  328.971466   \n",
       "9   2019-08-14  328.350006  329.540009  320.410004  320.420013  316.676788   \n",
       "10  2019-08-15  323.000000  328.070007  319.549988  328.000000  324.168243   \n",
       "11  2019-08-16  330.220001  331.160004  326.480011  330.450012  326.589661   \n",
       "12  2019-08-19  334.179993  335.910004  331.399994  333.779999  329.880707   \n",
       "13  2019-08-20  332.470001  333.500000  328.880005  331.750000  327.874451   \n",
       "14  2019-08-21  335.480011  342.579987  333.209991  339.989990  336.018188   \n",
       "15  2019-08-22  342.429993  356.440002  341.010010  354.410004  350.269714   \n",
       "16  2019-08-23  355.350006  369.690002  354.350006  356.010010  351.851044   \n",
       "17  2019-08-26  365.040009  367.339996  356.890015  359.040009  354.845642   \n",
       "18  2019-08-27  359.420013  361.309998  353.619995  354.730011  350.585999   \n",
       "19  2019-08-28  353.309998  360.190002  351.179993  359.970001  355.764771   \n",
       "20  2019-08-29  363.850006  366.040009  360.170013  362.739990  358.502411   \n",
       "21  2019-08-30  364.369995  366.369995  362.399994  364.089996  359.836639   \n",
       "\n",
       "      Volume  \n",
       "0    6465300  \n",
       "1    4675400  \n",
       "2    5876100  \n",
       "3    3653300  \n",
       "4    4187600  \n",
       "5    3673000  \n",
       "6    3102900  \n",
       "7    2542500  \n",
       "8    3689700  \n",
       "9    5110400  \n",
       "10   4721800  \n",
       "11   3866600  \n",
       "12   2335600  \n",
       "13   2039000  \n",
       "14   3265600  \n",
       "15   8320900  \n",
       "16  11518700  \n",
       "17   4661100  \n",
       "18   3740300  \n",
       "19   2402000  \n",
       "20   2717500  \n",
       "21   3147000  "
      ]
     },
     "execution_count": 27,
     "metadata": {},
     "output_type": "execute_result"
    }
   ],
   "source": [
    "# Getting the real stock price for August 1st 2019 - August 31st 2019\n",
    "\n",
    "dataset_test = pd.read_csv('test_data.csv')\n",
    "dataset_test"
   ]
  },
  {
   "cell_type": "code",
   "execution_count": 28,
   "metadata": {},
   "outputs": [
    {
     "data": {
      "text/plain": [
       "22"
      ]
     },
     "execution_count": 28,
     "metadata": {},
     "output_type": "execute_result"
    }
   ],
   "source": [
    "real_stock_price = dataset_test.iloc[:, 1:2].values\n",
    "real_stock_price.size"
   ]
  },
  {
   "cell_type": "code",
   "execution_count": 29,
   "metadata": {},
   "outputs": [
    {
     "data": {
      "text/plain": [
       "array([[341.910004],\n",
       "       [334.559998],\n",
       "       [332.459991],\n",
       "       [333.98999 ],\n",
       "       [328.600006],\n",
       "       [331.299988],\n",
       "       [334.059998],\n",
       "       [333.679993],\n",
       "       [331.820007],\n",
       "       [328.350006],\n",
       "       [323.      ],\n",
       "       [330.220001],\n",
       "       [334.179993],\n",
       "       [332.470001],\n",
       "       [335.480011],\n",
       "       [342.429993],\n",
       "       [355.350006],\n",
       "       [365.040009],\n",
       "       [359.420013],\n",
       "       [353.309998],\n",
       "       [363.850006],\n",
       "       [364.369995]])"
      ]
     },
     "execution_count": 29,
     "metadata": {},
     "output_type": "execute_result"
    }
   ],
   "source": [
    "real_stock_price"
   ]
  },
  {
   "cell_type": "markdown",
   "metadata": {},
   "source": [
    "To predict the stock price value for each day in August 2019, we need the values in the last 90 days.\n",
    "\n",
    "To obtain this **history** we need to combine both the training and test sets in one.\n",
    "\n",
    "If we were to use the training_set and test_set we would need to use the scaler  but that would change the actual test values.  Thus concatenate the original data frames!\n"
   ]
  },
  {
   "cell_type": "code",
   "execution_count": 30,
   "metadata": {},
   "outputs": [],
   "source": [
    "# Getting the predicted stock price of the future\n",
    "\n",
    "# Axis = 0 means concatenate the lines (for example: vertical axis)\n",
    "dataset_total = pd.concat((dataset_train['Open'], dataset_test['Open']), axis = 0) "
   ]
  },
  {
   "cell_type": "code",
   "execution_count": 31,
   "metadata": {},
   "outputs": [
    {
     "data": {
      "text/plain": [
       "2559"
      ]
     },
     "execution_count": 31,
     "metadata": {},
     "output_type": "execute_result"
    }
   ],
   "source": [
    "dataset_total.size\n"
   ]
  },
  {
   "cell_type": "code",
   "execution_count": 32,
   "metadata": {},
   "outputs": [],
   "source": [
    "# The contrast in the length of the first two gives us the first day in July 2019, and we need to go back 90 days to get the necessary range\n",
    "inputs = dataset_total[len(dataset_total) - len(dataset_test) - 90:].values"
   ]
  },
  {
   "cell_type": "code",
   "execution_count": 33,
   "metadata": {},
   "outputs": [
    {
     "data": {
      "text/plain": [
       "112"
      ]
     },
     "execution_count": 33,
     "metadata": {},
     "output_type": "execute_result"
    }
   ],
   "source": [
    "inputs.size"
   ]
  },
  {
   "cell_type": "code",
   "execution_count": 34,
   "metadata": {},
   "outputs": [],
   "source": [
    "# I did not use iloc from panda so lets rearrange the numpy array for compatibility, for example: all the values from input lines to be stacked in one column. The -1 means that the numpy has no knowledge of how the values were stored in lines. The 1 means I want to them in one column\n",
    "\n",
    "inputs = inputs.reshape(-1,1) \n",
    "\n",
    "# Applying the feature scaler\n",
    "inputs = sc.transform(inputs)"
   ]
  },
  {
   "cell_type": "markdown",
   "metadata": {},
   "source": [
    "1. For each price in Aug. 2019 we need the **immediate 90 values** before it. \n",
    "2. We have 22 prices in August;\n",
    "3. We need a numpy 3D array of 90 prices (columns) times 22 days (rows) times 1 dependent variable \n",
    "4. We don’t need y_test. That is what we are trying to compute!\n"
   ]
  },
  {
   "cell_type": "code",
   "execution_count": 35,
   "metadata": {},
   "outputs": [],
   "source": [
    "# Getting the predicted stock price of the future\n",
    "X_test = []"
   ]
  },
  {
   "cell_type": "code",
   "execution_count": 36,
   "metadata": {},
   "outputs": [],
   "source": [
    "# The first 90 from inputs are from training set, starting from 90 and getting the extra 22\n",
    "for i in range(90, 112): \n",
    "    X_test.append(inputs[i-90:i, 0])\n"
   ]
  },
  {
   "cell_type": "code",
   "execution_count": 37,
   "metadata": {},
   "outputs": [],
   "source": [
    "X_test = np.array(X_test)"
   ]
  },
  {
   "cell_type": "code",
   "execution_count": 38,
   "metadata": {},
   "outputs": [],
   "source": [
    "# Creating a 3D structure\n",
    "X_test = np.reshape(X_test, (X_test.shape[0], X_test.shape[1], 1))"
   ]
  },
  {
   "cell_type": "code",
   "execution_count": 39,
   "metadata": {},
   "outputs": [],
   "source": [
    "predicted_stock_price = regressor.predict(X_test)"
   ]
  },
  {
   "cell_type": "code",
   "execution_count": 40,
   "metadata": {},
   "outputs": [
    {
     "data": {
      "text/plain": [
       "22"
      ]
     },
     "execution_count": 40,
     "metadata": {},
     "output_type": "execute_result"
    }
   ],
   "source": [
    "# I need to inverse the scaling to get useful predicted stock price\n",
    "predicted_stock_price = sc.inverse_transform(predicted_stock_price) \n",
    "predicted_stock_price.size"
   ]
  },
  {
   "cell_type": "markdown",
   "metadata": {},
   "source": [
    "### Result Visualization\n"
   ]
  },
  {
   "cell_type": "code",
   "execution_count": 41,
   "metadata": {},
   "outputs": [
    {
     "data": {
      "image/png": "[encoded data removed]",
      "text/plain": [
       "<Figure size 432x288 with 1 Axes>"
      ]
     },
     "metadata": {
      "needs_background": "light"
     },
     "output_type": "display_data"
    }
   ],
   "source": [
    "# Visualisation of the results by graph\n",
    "\n",
    "plt.plot(real_stock_price, color = 'red', label = 'Real Boeing Stock Price')\n",
    "\n",
    "plt.plot(predicted_stock_price, color = 'blue', label = 'Predicted Boeing Stock Price')\n",
    "\n",
    "plt.title('Boeing Stock Price Prediction')\n",
    "plt.xlabel('Time')\n",
    "plt.ylabel('Boeing Stock Price')\n",
    "plt.legend()\n",
    "\n",
    "plt.show()"
   ]
  },
  {
   "cell_type": "markdown",
   "metadata": {},
   "source": [
    "The blue line shows the trend of the stock for the month of August 2019. \n",
    "\n",
    "Some observations:\n",
    "- The prediction lags behind the actual price curve because the model cannot react to fast non-linear changes. Spikes are examples of fast non-linear changes\n",
    "- Model reacts pretty well to smooth changes"
   ]
  },
  {
   "cell_type": "markdown",
   "metadata": {},
   "source": [
    "### Compute the RMSE\n",
    "\n",
    "If we need to compute the RMSE for our Stock Price Prediction problem, we use the real stock price and predicted stock price as shown.\n",
    "\n",
    "Then consider dividing this RMSE by the range of the Boeing Stock Price values of August 2019 to get a relative error, as opposed to an absolute error. \n"
   ]
  },
  {
   "cell_type": "code",
   "execution_count": 42,
   "metadata": {},
   "outputs": [],
   "source": [
    "# Importing the libraries\n",
    "import math\n",
    "from sklearn.metrics import mean_squared_error"
   ]
  },
  {
   "cell_type": "code",
   "execution_count": 43,
   "metadata": {},
   "outputs": [
    {
     "data": {
      "text/plain": [
       "8.4791523207726"
      ]
     },
     "execution_count": 43,
     "metadata": {},
     "output_type": "execute_result"
    }
   ],
   "source": [
    "rmse = math.sqrt( mean_squared_error( real_stock_price[0:30,:], predicted_stock_price))\n",
    "rmse"
   ]
  },
  {
   "cell_type": "markdown",
   "metadata": {},
   "source": [
    "## Improving the RNN"
   ]
  },
  {
   "cell_type": "markdown",
   "metadata": {},
   "source": [
    "The new data need to be placed in the same order/format  as in the case of the training/test sets.\n",
    "\n",
    "1. Getting more training data: we trained our model on the past 10 years of the  Boeing Stock Price.\n",
    "\n",
    "2. Increasing the number of time steps: the model remembered the stock price from the 90 previous financial days to predict the stock price of the next day. That’s because we chose a number of 90 time steps.\n",
    "\n",
    "3. Adding some other indicators: if you have the financial instinct that the stock price of some other companies might be correlated to the one of Boeing, you could add this other stock price as a new indicator in the training data.\n",
    "\n",
    "4. Adding more LSTM layers: we built a RNN with four LSTM layers but you could try with even more.\n",
    "\n",
    "5. Adding more neurons in the LSTM layers: we highlighted the fact that we needed a high number of neurons in the LSTM layers to respond better to the complexity of the problem and we chose to include 50 neurons in each of our 4 LSTM layers. You could try an architecture with even more neurons in each of the 4 (or more) LSTM layers."
   ]
  },
  {
   "cell_type": "markdown",
   "metadata": {},
   "source": [
    "### Fine tuning the RNN\n",
    "\n",
    "Parameter Tuning on the RNN model: we are dealing with a Regression problem because we predict a continuous outcome.\n",
    "\n",
    "**Tip**: replace: scoring = 'accuracy' by scoring = 'neg_mean_squared_error' in the GridSearchCV class parameters as we did in the ANN case."
   ]
  },
  {
   "cell_type": "code",
   "execution_count": null,
   "metadata": {},
   "outputs": [],
   "source": []
  }
 ],
 "metadata": {
  "kernelspec": {
   "display_name": "Python 3",
   "language": "python",
   "name": "python3"
  },
  "language_info": {
   "codemirror_mode": {
    "name": "ipython",
    "version": 3
   },
   "file_extension": ".py",
   "mimetype": "text/x-python",
   "name": "python",
   "nbconvert_exporter": "python",
   "pygments_lexer": "ipython3",
   "version": "3.8.5"
  }
 },
 "nbformat": 4,
 "nbformat_minor": 2
}
